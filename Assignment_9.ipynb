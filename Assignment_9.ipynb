{
 "cells": [
  {
   "cell_type": "markdown",
   "id": "703d598c-df15-4722-9063-8f10fa433bfc",
   "metadata": {},
   "source": [
    "# Assignment 9 - 8th Feb\n",
    "### Udit Kandpal"
   ]
  },
  {
   "cell_type": "markdown",
   "id": "25370d34-42b5-40b1-9899-0db405d9b6d5",
   "metadata": {},
   "source": [
    "##### Q1. What is Abstraction in OOps? Explain with an example."
   ]
  },
  {
   "cell_type": "markdown",
   "id": "6ef99bc5-9e74-4ba1-b8dd-b79116c30f27",
   "metadata": {},
   "source": [
    "Abstraction is the process of hiding the internal details of an application from the outer world. Abstraction is used to describe things in simple terms. It's used to create a boundary between the application and the client programs.\n",
    "    "
   ]
  },
  {
   "cell_type": "code",
   "execution_count": 1,
   "id": "6c9ef364-b048-4e9b-807d-ce3b50142992",
   "metadata": {},
   "outputs": [],
   "source": [
    "# for example\n",
    "class calc:\n",
    "    def __init__(self, name, age, wallet_balance):\n",
    "        self.name=name \n",
    "        self.age=age\n",
    "        self.wallet_balance=wallet_balance\n",
    "    def update_balance(self,amount):\n",
    "        self.wallet_balance += amount\n",
    "    def show_balance(self):\n",
    "        print(\"Your balance is:\", self.wallet_balance)\n",
    "    "
   ]
  },
  {
   "cell_type": "code",
   "execution_count": 3,
   "id": "75f86463-9242-401f-a07e-6b19bec7383f",
   "metadata": {},
   "outputs": [],
   "source": [
    "t1=calc(\"Udit\",23,1000)"
   ]
  },
  {
   "cell_type": "code",
   "execution_count": 5,
   "id": "1839637c-5917-443c-96cc-d1f97522002e",
   "metadata": {},
   "outputs": [],
   "source": [
    "t1.update_balance(500)"
   ]
  },
  {
   "cell_type": "code",
   "execution_count": 7,
   "id": "1657348b-2074-4214-a95f-606028a8c5bf",
   "metadata": {},
   "outputs": [
    {
     "name": "stdout",
     "output_type": "stream",
     "text": [
      "Your balance is: 1500\n"
     ]
    }
   ],
   "source": [
    "t1.show_balance()"
   ]
  },
  {
   "cell_type": "code",
   "execution_count": 8,
   "id": "9c6332a2-a07e-438a-a0d9-5ae75aab6099",
   "metadata": {},
   "outputs": [],
   "source": [
    "# here t1.update_balance and t1.show_balance are acting as direct methods to access the class without describing the process behind it. "
   ]
  },
  {
   "cell_type": "markdown",
   "id": "6b0f4e39-8fe2-4101-a459-79fa9b24b187",
   "metadata": {},
   "source": [
    "##### Q2. Differentiate between Abstraction and Encapsulation. Explain with an example."
   ]
  },
  {
   "cell_type": "markdown",
   "id": "92166127-e45d-499e-a659-92dcb5f1ef45",
   "metadata": {},
   "source": [
    "Abstraction is hiding implementation details and we cannot change code inside method.\n",
    "Encapsulation is process of wrapping up of data and code together.\n",
    "For eg. if we consider a television, so the buttons that are used to control the TV is a form of abstraction, it is same as user accessing the methods directly to get a desired output. And the chip that is present inside the TV and has all the circuits, transistors and LED's will be treated as Encapsulation, as it is same as of implementing all the methods keeping the data hidden from user."
   ]
  },
  {
   "cell_type": "markdown",
   "id": "b860fcdb-b0cc-4df3-8201-836457c1c5c4",
   "metadata": {},
   "source": [
    "##### Q3. What is abc module in python? Why is it used?"
   ]
  },
  {
   "cell_type": "markdown",
   "id": "404fa6aa-9da3-444c-a62a-4d021550adf9",
   "metadata": {},
   "source": [
    "abc module provides the infrastructure for defining custom abstract base classes."
   ]
  },
  {
   "cell_type": "markdown",
   "id": "1b34a162-43fb-4c60-8961-11f8badd2bf8",
   "metadata": {},
   "source": [
    "Since abstract class cannot be instantiated in python, an abstract method can be called by its subclasses.\n",
    "This module provides us the following:\n",
    "1. ABCMeta \n",
    "2. ABC (helper class) \n",
    "  \n",
    "    these are keywords used to create an abstract class.\n"
   ]
  },
  {
   "cell_type": "markdown",
   "id": "e1b20a72-d80d-481e-8d59-8ef0fc876388",
   "metadata": {},
   "source": [
    "##### Q4. How can we achieve data abstraction?"
   ]
  },
  {
   "cell_type": "markdown",
   "id": "dd6ea613-767e-4127-b363-e0bfdee81c94",
   "metadata": {},
   "source": [
    "We can achieve data abstraction in python by defining the abstract classes."
   ]
  },
  {
   "cell_type": "code",
   "execution_count": 2,
   "id": "0abf50a1-4070-47be-99d7-25d4a43282c0",
   "metadata": {},
   "outputs": [],
   "source": [
    "#creating abstract class and defining abstract method. Also object cannot be created for an abstract class.\n",
    "from abc import ABC, abstractmethod\n",
    "class Computer(ABC):\n",
    "    @abstractmethod               \n",
    "    def process(self):\n",
    "        pass"
   ]
  },
  {
   "cell_type": "markdown",
   "id": "e9ee5dd5-d06a-4990-8239-7a297a94d6cd",
   "metadata": {},
   "source": [
    "##### Q5. Can we create an instance of an abstract class? Explain your answer."
   ]
  },
  {
   "cell_type": "markdown",
   "id": "e0754549-1438-4c55-9e31-8abbf1db5596",
   "metadata": {},
   "source": [
    "We cannot create and instance of abstract class directly, To create an instance we can do it by inherting the parent class in another class and defining the method there."
   ]
  },
  {
   "cell_type": "code",
   "execution_count": 2,
   "id": "16f15de9-e935-4a14-80ea-c3460983153a",
   "metadata": {},
   "outputs": [],
   "source": [
    "from abc import ABC, abstractmethod\n",
    "class Computer(ABC):\n",
    "    @abstractmethod               \n",
    "    def process(self):\n",
    "        pass\n",
    "        \n",
    "class Laptop(Computer):\n",
    "    def process(self, age):\n",
    "        self.age=age\n",
    "        print(\"age:\", age)\n",
    "        "
   ]
  },
  {
   "cell_type": "code",
   "execution_count": 3,
   "id": "9f81397c-cb48-4596-8198-415664322540",
   "metadata": {},
   "outputs": [
    {
     "name": "stdout",
     "output_type": "stream",
     "text": [
      "age: 23\n"
     ]
    }
   ],
   "source": [
    "c1=Laptop()\n",
    "c1.process(23)\n",
    "\n"
   ]
  },
  {
   "cell_type": "code",
   "execution_count": null,
   "id": "76ba8219-7a84-41dd-8761-7d89f4bbbfc4",
   "metadata": {},
   "outputs": [],
   "source": []
  }
 ],
 "metadata": {
  "kernelspec": {
   "display_name": "Python 3 (ipykernel)",
   "language": "python",
   "name": "python3"
  },
  "language_info": {
   "codemirror_mode": {
    "name": "ipython",
    "version": 3
   },
   "file_extension": ".py",
   "mimetype": "text/x-python",
   "name": "python",
   "nbconvert_exporter": "python",
   "pygments_lexer": "ipython3",
   "version": "3.10.8"
  }
 },
 "nbformat": 4,
 "nbformat_minor": 5
}
