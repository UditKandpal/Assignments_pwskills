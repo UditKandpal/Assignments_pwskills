{
 "cells": [
  {
   "cell_type": "markdown",
   "id": "75810e42-17dd-4c39-8fcb-7a9483a2f768",
   "metadata": {},
   "source": [
    "# Assignment 14 - Multithreading\n",
    "### Udit Kandpal"
   ]
  },
  {
   "cell_type": "markdown",
   "id": "2bce384c-5383-4c5c-8cd0-63ec8a64763e",
   "metadata": {},
   "source": [
    "##### Q1. What is multithreading in python? Why is it used? Name the module used to handle threads in python"
   ]
  },
  {
   "cell_type": "markdown",
   "id": "a985291e-5442-4bc5-898a-205a07343467",
   "metadata": {},
   "source": [
    "A1. Multithreading is technique through which same program can be executed multiple times concurrently.  \n",
    "It is used because it provides better usage of resources and time as program is executing concurrently.   \n",
    "The module to handle threads in python is \"threading\""
   ]
  },
  {
   "cell_type": "code",
   "execution_count": 3,
   "id": "62e771f7-630f-4f90-9069-1fecafde31a6",
   "metadata": {},
   "outputs": [],
   "source": [
    "import threading"
   ]
  },
  {
   "cell_type": "markdown",
   "id": "f07803bc-2916-473f-b8be-c64fb19ef02b",
   "metadata": {},
   "source": [
    "##### Q2. Why threading module used? Write the use of the following functions\n",
    " 1. activeCount\n",
    " 2. currentThread\n",
    " 3. enumerate"
   ]
  },
  {
   "cell_type": "markdown",
   "id": "0eaeffaf-3544-494a-bc5a-a950b52a7509",
   "metadata": {},
   "source": [
    "A2. Threading module is used to import the package that involves the handling of threads."
   ]
  },
  {
   "cell_type": "markdown",
   "id": "78d3f5c4-848a-42d8-80a0-44a171658b94",
   "metadata": {},
   "source": [
    "1. activeCount = It gives the number of threads that are currently in use.\n",
    "2. currentThread = It gives the reference of the current thread in use or \"currently executing thread object\".\n",
    "3. enumerate = It returns a list of all Thread objects currently alive."
   ]
  },
  {
   "cell_type": "code",
   "execution_count": 9,
   "id": "d21f0b6a-d277-415d-b85f-b31950c5ed54",
   "metadata": {},
   "outputs": [
    {
     "data": {
      "text/plain": [
       "6"
      ]
     },
     "execution_count": 9,
     "metadata": {},
     "output_type": "execute_result"
    }
   ],
   "source": [
    "threading.activeCount()"
   ]
  },
  {
   "cell_type": "code",
   "execution_count": 10,
   "id": "6468e6e6-2540-4242-88b3-8a2e67c8e36e",
   "metadata": {},
   "outputs": [
    {
     "data": {
      "text/plain": [
       "<_MainThread(MainThread, started 25716)>"
      ]
     },
     "execution_count": 10,
     "metadata": {},
     "output_type": "execute_result"
    }
   ],
   "source": [
    "threading.currentThread()"
   ]
  },
  {
   "cell_type": "code",
   "execution_count": 11,
   "id": "7ddf019d-3971-48a4-97ef-c30c61d29fd8",
   "metadata": {},
   "outputs": [
    {
     "data": {
      "text/plain": [
       "[<_MainThread(MainThread, started 25716)>,\n",
       " <Thread(IOPub, started daemon 30048)>,\n",
       " <Heartbeat(Heartbeat, started daemon 34872)>,\n",
       " <ControlThread(Control, started daemon 34424)>,\n",
       " <HistorySavingThread(IPythonHistorySavingThread, started 18584)>,\n",
       " <ParentPollerWindows(Thread-4, started daemon 30400)>]"
      ]
     },
     "execution_count": 11,
     "metadata": {},
     "output_type": "execute_result"
    }
   ],
   "source": [
    "threading.enumerate()"
   ]
  },
  {
   "cell_type": "markdown",
   "id": "bd6ea2a2-cbcf-495a-a74d-750f105a84f3",
   "metadata": {},
   "source": [
    "##### Q3. Explain the following functions\n",
    "1. run()\n",
    "2. start()\n",
    "3. join()\n",
    "4. isAlive()"
   ]
  },
  {
   "cell_type": "markdown",
   "id": "b37e4f25-88de-4c14-8b8b-a4dc58256e99",
   "metadata": {},
   "source": [
    "A3.  \n",
    "1. run() - It is and in-built method of Thread class in threading module. It is used to represent a thread's activity.\n",
    "2. start() - It is also an in-built method and is used to start a thread object. Difference between run() and start() is that run only executes a previously created thread object and will not create a new thread object. Whereas the start() will create a new thread object every time it's called.\n",
    "3. join() - It provides a way to block other threads until another thread has finished.\n",
    "4. isAlive()- It is used to check whether a specific thread is active or not."
   ]
  },
  {
   "cell_type": "markdown",
   "id": "69eeb094-0b13-4d89-b841-37ae619d984a",
   "metadata": {},
   "source": [
    "##### Q4. Write a python program to create two threads. Thread one must print the list of squares and thread two must print the list of cubes."
   ]
  },
  {
   "cell_type": "code",
   "execution_count": 6,
   "id": "a188fd56-954e-4b15-84e5-3b083d95540e",
   "metadata": {},
   "outputs": [
    {
     "name": "stdout",
     "output_type": "stream",
     "text": [
      "Square is:  0\n",
      "Square is:  1\n",
      "Square is:  4\n",
      "Square is:  9\n",
      "Square is:  16\n",
      "Square is:  25\n",
      "Square is:  36\n",
      "Square is:  49\n",
      "Square is:  64\n",
      "Square is:  81\n",
      "Square is:  100\n",
      "Cube is:  0\n",
      "Cube is:  1\n",
      "Cube is:  8\n",
      "Cube is:  27\n",
      "Cube is:  64\n",
      "Cube is:  125\n",
      "Cube is:  216\n",
      "Cube is:  343\n",
      "Cube is:  512\n",
      "Cube is:  729\n",
      "Cube is:  1000\n"
     ]
    }
   ],
   "source": [
    "import threading\n",
    "def square(num):\n",
    "    print(\"Square is: \",(num*num))\n",
    "        \n",
    "def cube(num):\n",
    "    print(\"Cube is: \",(num*num*num))\n",
    "    \n",
    "t1=[threading.Thread(target=square, args=(i,))for i in range(11)]\n",
    "t2=[threading.Thread(target=cube , args=(j,))for j in range(11)]\n",
    "\n",
    "for t in t1: \n",
    "    t.start()\n",
    "for m in t2:\n",
    "    m.start()"
   ]
  },
  {
   "cell_type": "markdown",
   "id": "6fd257cf-d2fd-4b3f-8d04-7d52623e5a11",
   "metadata": {},
   "source": [
    "##### Q5. State advantages and disadvantages of multithreading."
   ]
  },
  {
   "cell_type": "markdown",
   "id": "4661065b-5eac-4a4f-acbc-5e3d97525753",
   "metadata": {},
   "source": [
    "Advantages are-  \n",
    "1.Enhanced performance by decreased development time  \n",
    "2.Simplified and streamlined program coding  \n",
    "3.Improvised GUI responsiveness  \n",
    "4.Simultaneous and parallelized occurrence of tasks  \n",
    "5.Better use of cache storage by utilization of resources  \n",
    "6.Decreased cost of maintenance  \n",
    "7.Better use of CPU resource\n",
    "\n",
    "Disadvantages are-  \n",
    "1.Complex debugging and testing processes  \n",
    "2.Overhead switching of context  \n",
    "3.Increased potential for deadlock occurrence  \n",
    "4.Increased difficulty level in writing a program  \n",
    "5.Unpredictable results"
   ]
  },
  {
   "cell_type": "markdown",
   "id": "62cc9267-8a90-4356-ac66-6b472213357a",
   "metadata": {},
   "source": [
    "##### Q6. Explain deadlocks and race conditions."
   ]
  },
  {
   "cell_type": "markdown",
   "id": "b8916359-2a13-4a4a-aa19-a36ba26a50d8",
   "metadata": {},
   "source": [
    "deadlock is a condition of locking up of the two different threads into each other resources. Since they will have to wait until it is freed and both are depending on each other to process, the situatiuon gets locked.  \n",
    "Race Conditions happen when one thread is using the resources and another thread starts using the same resources but since the first thread is executing, the problem arises in the execution of threads. Generally locks and semapohores are used to solve this problem."
   ]
  },
  {
   "cell_type": "code",
   "execution_count": null,
   "id": "14b06735-4652-452b-97d9-59c8ca8256ef",
   "metadata": {},
   "outputs": [],
   "source": []
  }
 ],
 "metadata": {
  "kernelspec": {
   "display_name": "Python 3 (ipykernel)",
   "language": "python",
   "name": "python3"
  },
  "language_info": {
   "codemirror_mode": {
    "name": "ipython",
    "version": 3
   },
   "file_extension": ".py",
   "mimetype": "text/x-python",
   "name": "python",
   "nbconvert_exporter": "python",
   "pygments_lexer": "ipython3",
   "version": "3.9.13"
  }
 },
 "nbformat": 4,
 "nbformat_minor": 5
}
