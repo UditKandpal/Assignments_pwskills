{
 "cells": [
  {
   "cell_type": "markdown",
   "id": "17f4c1dd-7cef-4fc5-9836-af6040bc286d",
   "metadata": {},
   "source": [
    "# Assignment 7 - 6th Feb\n",
    "\n",
    "### Udit Kandpal"
   ]
  },
  {
   "cell_type": "markdown",
   "id": "f4b6d0e3-47a6-4d9c-b61d-c91ce5f17782",
   "metadata": {},
   "source": [
    "##### Q1. Create a function which will take a list as an argument and return the product of all the numbers after creating a flat list. Use the below-given list as an argument for your function.\n",
    "list1 = [1,2,3,4, [44,55,66, True], False, (34,56,78,89,34), {1,2,3,3,2,1}, {1:34, \"key2\": [55, 67, 78, 89], 4: (45,\n",
    "22, 61, 34)}, [56, 'data science'], 'Machine Learning']"
   ]
  },
  {
   "cell_type": "code",
   "execution_count": 28,
   "id": "6807a24d-55bc-4ccf-aad4-7d2a4cbae710",
   "metadata": {},
   "outputs": [],
   "source": [
    "def fun1(*a):\n",
    "    master_list=[]\n",
    "    final_product=1\n",
    "    for i in a:                       #traversing the list \n",
    "        if type(i)==list:\n",
    "            for j in i:                   # checking for list inside list \n",
    "                if type(j)==list:\n",
    "                    for k in j:                # accessing integers of list inside list\n",
    "                        if type(k)==int:      \n",
    "                            master_list.append(k)\n",
    "                            # print(base_1)\n",
    "\n",
    "                if type(j)==int:          # integers inside the list \n",
    "                    master_list.append(j)\n",
    "                    # print(base_2)\n",
    "                if type(j)==tuple:        # tuple inside the list \n",
    "                    for x in j:\n",
    "                        if type(x)==int:\n",
    "                            master_list.append(x)\n",
    "                            # print(base_3)\n",
    "                if type(j)==set:          # set inside the list \n",
    "                    for y in j:\n",
    "                        if type(y)==int:\n",
    "                            master_list.append(y)\n",
    "                            # print(base_4)\n",
    "                if type(j)==dict:         # dictionary inside list \n",
    "                    l2=j.keys()\n",
    "                    l3=j.values()\n",
    "                    for t in l2:\n",
    "                        if type(t)==int:\n",
    "                            master_list.append(t)\n",
    "                        if type(t)==list:\n",
    "                            for list_val in t:\n",
    "                                if type(list_val)==int:\n",
    "                                    master_list.append(list_val)\n",
    "                        if type(t)==tuple:\n",
    "                            for tuple_val in t:\n",
    "                                if type(tuple_val)==int:\n",
    "                                    master_list.append(tuple_val)\n",
    "                                    \n",
    "                    for val in l3:\n",
    "                        if type(val)==int:\n",
    "                            master_list.append(val)\n",
    "                        if type(val)==list:\n",
    "                            for list_val1 in val:\n",
    "                                if type(list_val1)==int:\n",
    "                                    master_list.append(list_val1)\n",
    "                        if type(val)==tuple:\n",
    "                            for tuple_val1 in val:\n",
    "                                if type(tuple_val1)==int:\n",
    "                                    master_list.append(tuple_val1)\n",
    "        for _ in master_list:\n",
    "            final_product *= _\n",
    "        print(\"Product: \", final_product)\n",
    "        return master_list\n",
    "                    "
   ]
  },
  {
   "cell_type": "code",
   "execution_count": 29,
   "id": "3f94ed1b-4dc6-4a0f-9c2b-c493b0e90d4a",
   "metadata": {},
   "outputs": [
    {
     "name": "stdout",
     "output_type": "stream",
     "text": [
      "Product:  4134711838987085478833841242112000\n"
     ]
    },
    {
     "data": {
      "text/plain": [
       "[1,\n",
       " 2,\n",
       " 3,\n",
       " 4,\n",
       " 44,\n",
       " 55,\n",
       " 66,\n",
       " 34,\n",
       " 56,\n",
       " 78,\n",
       " 89,\n",
       " 34,\n",
       " 1,\n",
       " 2,\n",
       " 3,\n",
       " 1,\n",
       " 4,\n",
       " 34,\n",
       " 55,\n",
       " 67,\n",
       " 78,\n",
       " 89,\n",
       " 45,\n",
       " 22,\n",
       " 61,\n",
       " 34,\n",
       " 56]"
      ]
     },
     "execution_count": 29,
     "metadata": {},
     "output_type": "execute_result"
    }
   ],
   "source": [
    "fun1([1,2,3,4, [44,55,66, True], False, (34,56,78,89,34), {1,2,3,3,2,1}, {1:34, \"key2\": [55, 67, 78, 89], 4: (45, 22, 61, 34)}, [56, 'data science'], 'Machine Learning'])"
   ]
  },
  {
   "cell_type": "markdown",
   "id": "440e7bd5-4887-4e42-874e-9b892ec457f4",
   "metadata": {},
   "source": [
    "##### Q2. Write a python program for encrypting a message sent to you by your friend. The logic of encryption should be such that, for a the output should be z. For b, the output should be y. For c, the output should be x respectively. Also, the whitespace should be replaced with a dollar sign. Keep the punctuation marks unchanged.   \n",
    "  Input Sentence: I want to become a Data Scientist.  Encrypt the above input sentence using the program you just created.  Note: Convert the given input sentence into lowercase before encrypting. The final output should be lowercase."
   ]
  },
  {
   "cell_type": "code",
   "execution_count": 2,
   "id": "78b84970-3a53-48af-9f0c-10f8dad4c65c",
   "metadata": {},
   "outputs": [
    {
     "name": "stdin",
     "output_type": "stream",
     "text": [
      "Enter the message:  I want to become a Data Scientist\n"
     ]
    },
    {
     "name": "stdout",
     "output_type": "stream",
     "text": [
      "i want to become a data scientist\n",
      "r dzmg gl yvxlnv z wzgz hxrvmgrhg\n"
     ]
    }
   ],
   "source": [
    "str1=input(\"Enter the message: \")\n",
    "str1=str1.lower()\n",
    "str2=''\n",
    "print(str1)\n",
    "list_1=str1.split()\n",
    "for i in range(0,len(str1)):\n",
    "    if str1[i]==' ':\n",
    "        str2=str2+' '\n",
    "    else:\n",
    "        str2=str2+chr(122-ord(str1[i])+97)\n",
    "print(str2)\n",
    "\n",
    "\n"
   ]
  }
 ],
 "metadata": {
  "kernelspec": {
   "display_name": "Python 3 (ipykernel)",
   "language": "python",
   "name": "python3"
  },
  "language_info": {
   "codemirror_mode": {
    "name": "ipython",
    "version": 3
   },
   "file_extension": ".py",
   "mimetype": "text/x-python",
   "name": "python",
   "nbconvert_exporter": "python",
   "pygments_lexer": "ipython3",
   "version": "3.10.8"
  }
 },
 "nbformat": 4,
 "nbformat_minor": 5
}
