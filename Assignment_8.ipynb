{
 "cells": [
  {
   "cell_type": "markdown",
   "id": "8f26bbe0-060b-4a10-b3f3-3b88a54f4609",
   "metadata": {},
   "source": [
    "# Assignment 8 - 7th Feb\n",
    "### Udit Kandpal"
   ]
  },
  {
   "cell_type": "markdown",
   "id": "a24ad2f3-0c64-4ce4-ab2a-f790b10969ed",
   "metadata": {},
   "source": [
    "##### Q1. You are writing code for a company. The requirement of the company is that you create a python function that will check whether the password entered by the user is correct or not. The function should take the password as input and return the string “Valid Password” if the entered password follows the below-given password guidelines else it should return “Invalid Password”.\n"
   ]
  },
  {
   "cell_type": "code",
   "execution_count": 2,
   "id": "53f5f19d-afd0-4492-a1b5-5ccb23f403c8",
   "metadata": {},
   "outputs": [],
   "source": [
    "#  Note: 1. The Password should contain at least two uppercase letters and at least two lowercase letters.  \n",
    "#   2. The Password should contain at least a number and three special characters.\n",
    "#     3. The length of the password should be 10 characters long."
   ]
  },
  {
   "cell_type": "code",
   "execution_count": 27,
   "id": "f1e2f867-8620-4db9-ae9e-4c418d40201c",
   "metadata": {},
   "outputs": [
    {
     "name": "stdin",
     "output_type": "stream",
     "text": [
      "Enter your Password:  ARTadhsh#%$^12937\n"
     ]
    },
    {
     "name": "stdout",
     "output_type": "stream",
     "text": [
      "5 3 5 4\n",
      "Valid Password\n"
     ]
    }
   ],
   "source": [
    "password=input(\"Enter your Password: \")\n",
    "if len(password)>9:\n",
    "    list1=[_ for _ in password]\n",
    "    num=0      # for number in password  \n",
    "    upper=0      # for uppercase letter in password \n",
    "    lower=0      # for lowercase letter in password \n",
    "    special=0    # for special characters in password\n",
    "    for i in list1:\n",
    "        if ord(i)>=48 and ord(i)<=57:\n",
    "            num=num+1\n",
    "    for j in list1:\n",
    "        if ord(j)>=65 and ord(j)<=90:\n",
    "            upper += 1\n",
    "    for k in list1:\n",
    "        if ord(k)>96 and ord(k)<123:\n",
    "            lower += 1\n",
    "    for l in list1:\n",
    "        if (ord(l)>=32 and ord(l)<=47) or (ord(l)>=58 and ord(l)<=64) or (ord(l)>=91 and ord(l)<=96) or (ord(l)>=123 and ord(l)<=126):\n",
    "            special += 1\n",
    "    \n",
    "    print(num, upper, lower, special)\n",
    "    if num>0 and upper>1 and lower>1 and special>2:\n",
    "        print(\"Valid Password\")\n",
    "    else:\n",
    "        print(\"Invalid Password\")\n",
    "else:\n",
    "    print(\"Invalid Password\")"
   ]
  },
  {
   "cell_type": "markdown",
   "id": "2f106369-adb0-47a4-8fc8-109e4e9298d7",
   "metadata": {},
   "source": [
    "##### Q2. Solve the below-given questions using at least one of the following:\n",
    "1. Lambda function\n",
    "2. Filter function\n",
    "3. Zap function\n",
    "4. List Comprehension\n",
    "\n",
    "\n",
    "  Check if the string starts with a particular letter.  \n",
    "  Check if the string is numeric.  \n",
    "  Sort a list of tuples having fruit names and their quantity. [(\"mango\",99),(\"orange\",80), (\"grapes\", 1000)]  \n",
    "  Find the squares of numbers from 1 to 10.  \n",
    "  Find the cube root of numbers from 1 to 10.  \n",
    "  Check if a given number is even.  \n",
    "  Filter odd numbers from the given list.\n",
    "[1,2,3,4,5,6,7,8,9,10] \n",
    "Sort a list of integers into positive and negative integers lists.\n",
    "[1,2,3,4,5,6,-1,-2,-3,-4,-5,0]"
   ]
  },
  {
   "cell_type": "code",
   "execution_count": 55,
   "id": "be1d2571-e1c8-4a64-abb8-a99d2065caf1",
   "metadata": {},
   "outputs": [
    {
     "name": "stdin",
     "output_type": "stream",
     "text": [
      "Enter String: alarm\n"
     ]
    },
    {
     "name": "stdout",
     "output_type": "stream",
     "text": [
      "The string contains the particular letter 'a'\n"
     ]
    }
   ],
   "source": [
    "# Check if the string starts with a particular letter.\n",
    "l=input(\"Enter String:\")\n",
    "m=bool(filter(lambda x:x[0]=='a',l))\n",
    "if m==True:\n",
    "    print (\"The string contains the particular letter 'a'\")"
   ]
  },
  {
   "cell_type": "code",
   "execution_count": 81,
   "id": "e4ec9f41-68a4-4aa9-b2c7-d26418e0df46",
   "metadata": {},
   "outputs": [
    {
     "name": "stdin",
     "output_type": "stream",
     "text": [
      "Enter String:  984723\n"
     ]
    },
    {
     "name": "stdout",
     "output_type": "stream",
     "text": [
      "Valid Numeric\n"
     ]
    }
   ],
   "source": [
    "# Check if the string is numeric\n",
    "num=input(\"Enter String: \")\n",
    "num_len=0\n",
    "final_val=\"Valid Numeric\"\n",
    "list_1=list(map(lambda x: ord(x)>=48 and ord(x)<=57, num))\n",
    "for i in list_1:\n",
    "    if (i==False):\n",
    "        final_val=\"Invalid Numeric\"\n",
    "        break\n",
    "print(final_val)\n"
   ]
  },
  {
   "cell_type": "code",
   "execution_count": 84,
   "id": "f153a99b-e64a-495f-b0a0-30137f0fe079",
   "metadata": {},
   "outputs": [
    {
     "name": "stdout",
     "output_type": "stream",
     "text": [
      "[('orange', 80), ('mango', 99), ('grapes', 1000)]\n"
     ]
    }
   ],
   "source": [
    "# Sort a list of tuples having fruit names and their quantity. [(\"mango\",99),(\"orange\",80), (\"grapes\", 1000)]\n",
    "l= [(\"mango\",99),(\"orange\",80), (\"grapes\", 1000)]\n",
    "final=sorted(l, key=lambda x:x[1], )\n",
    "print(final)"
   ]
  },
  {
   "cell_type": "code",
   "execution_count": 85,
   "id": "5483e8ec-a230-4204-ae19-650893a0b7f5",
   "metadata": {},
   "outputs": [
    {
     "data": {
      "text/plain": [
       "[1, 4, 9, 16, 25, 36, 49, 64, 81, 100]"
      ]
     },
     "execution_count": 85,
     "metadata": {},
     "output_type": "execute_result"
    }
   ],
   "source": [
    "#Find the squares of numbers from 1 to 10.\n",
    "\n",
    "[i**2 for i in range(1,11)]"
   ]
  },
  {
   "cell_type": "code",
   "execution_count": 89,
   "id": "57cc325a-f847-485c-83a9-c01281024d63",
   "metadata": {},
   "outputs": [
    {
     "data": {
      "text/plain": [
       "[0.3333333333333333,\n",
       " 0.6666666666666666,\n",
       " 1.0,\n",
       " 1.3333333333333333,\n",
       " 1.6666666666666667,\n",
       " 2.0,\n",
       " 2.3333333333333335,\n",
       " 2.6666666666666665,\n",
       " 3.0,\n",
       " 3.3333333333333335]"
      ]
     },
     "execution_count": 89,
     "metadata": {},
     "output_type": "execute_result"
    }
   ],
   "source": [
    "# Find the cube root of numbers from 1 to 10.\n",
    "[i**1/3 for i in range(1,11)]"
   ]
  },
  {
   "cell_type": "code",
   "execution_count": 99,
   "id": "d4d0fc0c-cdd0-4538-9b6e-4c4dde29076d",
   "metadata": {},
   "outputs": [
    {
     "name": "stdin",
     "output_type": "stream",
     "text": [
      "Enter Number:  12\n"
     ]
    },
    {
     "name": "stdout",
     "output_type": "stream",
     "text": [
      "Even Number\n"
     ]
    }
   ],
   "source": [
    "# Check if a given number is even.\n",
    "num=int(input(\"Enter Number: \"))\n",
    "even_check=lambda : \"Even Number\" if num%2==0 else \"Odd number\"\n",
    "print(even_check())"
   ]
  },
  {
   "cell_type": "code",
   "execution_count": 103,
   "id": "5b913acb-1b69-4103-99b1-a98f70697be5",
   "metadata": {},
   "outputs": [
    {
     "name": "stdout",
     "output_type": "stream",
     "text": [
      "[1, 3, 5, 7, 9]\n"
     ]
    }
   ],
   "source": [
    "# Filter odd numbers from the given list. [1,2,3,4,5,6,7,8,9,10]\n",
    "list_2=[1,2,3,4,5,6,7,8,9,10]\n",
    "final_list=list(filter(lambda x: x%2==1,list_2))\n",
    "print(final_list)"
   ]
  },
  {
   "cell_type": "code",
   "execution_count": 104,
   "id": "5b012dd1-4148-4672-b498-f4b13e08c88d",
   "metadata": {},
   "outputs": [
    {
     "name": "stdout",
     "output_type": "stream",
     "text": [
      "Positive List: [1, 2, 3, 4, 5, 6, 0]\n",
      "Negative List: [-1, -2, -3, -4, -5]\n"
     ]
    }
   ],
   "source": [
    "# Sort a list of integers into positive and negative integers lists. [1,2,3,4,5,6,-1,-2,-3,-4,-5,0]\n",
    "list_3=[1,2,3,4,5,6,-1,-2,-3,-4,-5,0]\n",
    "final_pos_list=list(filter(lambda x:x>=0, list_3))\n",
    "final_neg_list=list(filter(lambda y:y<0, list_3))\n",
    "print(\"Positive List:\", final_pos_list)\n",
    "print(\"Negative List:\", final_neg_list)"
   ]
  },
  {
   "cell_type": "code",
   "execution_count": null,
   "id": "931b1cf2-95a0-4741-b5cf-db6b580fbb86",
   "metadata": {},
   "outputs": [],
   "source": []
  }
 ],
 "metadata": {
  "kernelspec": {
   "display_name": "Python 3 (ipykernel)",
   "language": "python",
   "name": "python3"
  },
  "language_info": {
   "codemirror_mode": {
    "name": "ipython",
    "version": 3
   },
   "file_extension": ".py",
   "mimetype": "text/x-python",
   "name": "python",
   "nbconvert_exporter": "python",
   "pygments_lexer": "ipython3",
   "version": "3.10.8"
  }
 },
 "nbformat": 4,
 "nbformat_minor": 5
}
