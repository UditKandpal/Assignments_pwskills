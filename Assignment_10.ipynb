{
 "cells": [
  {
   "cell_type": "markdown",
   "id": "d77f17fd-a509-4709-8f8e-7f4b1a62b07f",
   "metadata": {},
   "source": [
    "# Assignment 10 - 9th Feb\n",
    "### Udit Kandpal"
   ]
  },
  {
   "cell_type": "markdown",
   "id": "a6f2306d-c978-4b88-82a8-9751f8b5ac5d",
   "metadata": {},
   "source": [
    "##### Q1. Create a vehicle class with an init method having instance variables as name_of_vehicle, max_speed and average_of_vehicle."
   ]
  },
  {
   "cell_type": "code",
   "execution_count": 17,
   "id": "1cfee95a-4fff-42e8-864e-f7361f2d5460",
   "metadata": {},
   "outputs": [],
   "source": [
    "class vehicle:\n",
    "    def __init__(self,name_of_vehicle,max_speed,average_of_vehicle):\n",
    "        self.name_of_vehicle=name_of_vehicle\n",
    "        self.max_speed=max_speed\n",
    "        self.average_of_vehicle=average_of_vehicle\n",
    "\n",
    "    def show_details(self):\n",
    "        print(\"Model:\"+ self.name_of_vehicle, self.max_speed,self.average_of_vehicle)"
   ]
  },
  {
   "cell_type": "code",
   "execution_count": 18,
   "id": "cc03c0d4-be78-4082-bb80-ed5fa8fa1d9a",
   "metadata": {},
   "outputs": [],
   "source": [
    "v1=vehicle(\"BMW\",100,26)"
   ]
  },
  {
   "cell_type": "code",
   "execution_count": 19,
   "id": "a16940cf-37a2-4d00-a658-a26a3c5c6ff4",
   "metadata": {},
   "outputs": [
    {
     "name": "stdout",
     "output_type": "stream",
     "text": [
      "Model:BMW 100 26\n"
     ]
    }
   ],
   "source": [
    "v1.show_details()"
   ]
  },
  {
   "cell_type": "markdown",
   "id": "2943384e-36ea-40d5-a1ab-8724bd969e71",
   "metadata": {},
   "source": [
    "##### Q2. Create a child class car from the vehicle class created in Que 1, which will inherit the vehicle class.Create a method named seating_capacity which takes capacity as an argument and returns the name of the vehicle and its seating capacity."
   ]
  },
  {
   "cell_type": "code",
   "execution_count": 20,
   "id": "93859315-fb3d-4fce-b837-d6f18a338926",
   "metadata": {},
   "outputs": [],
   "source": [
    "class car(vehicle):\n",
    "    def seating_capacity(self, capacity):\n",
    "        self.capacity=capacity\n",
    "        print (self.name_of_vehicle, self.capacity)"
   ]
  },
  {
   "cell_type": "code",
   "execution_count": 22,
   "id": "14c57a40-4a27-4ff3-84df-f7e419c51229",
   "metadata": {},
   "outputs": [],
   "source": [
    "c1=car(\"Jaguar\", 150, 25)"
   ]
  },
  {
   "cell_type": "code",
   "execution_count": 23,
   "id": "f44ef895-5a60-4b97-ba10-449d59a06f87",
   "metadata": {},
   "outputs": [
    {
     "name": "stdout",
     "output_type": "stream",
     "text": [
      "Jaguar 2\n"
     ]
    }
   ],
   "source": [
    "c1.seating_capacity(2)"
   ]
  },
  {
   "cell_type": "markdown",
   "id": "804df4aa-6bf1-4a91-9b1d-26a82acb5c4f",
   "metadata": {},
   "source": [
    "##### Q3. What is multiple inheritance? Write a python code to demonstrate multiple inheritance."
   ]
  },
  {
   "cell_type": "markdown",
   "id": "cc15025a-7d7e-4ca6-bc47-e591f09d3475",
   "metadata": {},
   "source": [
    "Multiple inheritance is process of inheriting multiple parent class(one or more than one)."
   ]
  },
  {
   "cell_type": "code",
   "execution_count": 24,
   "id": "b2b2761b-2dd3-4a39-b939-33f1a86e3efa",
   "metadata": {},
   "outputs": [
    {
     "name": "stdout",
     "output_type": "stream",
     "text": [
      "Combo- Samsung headset\n",
      "Combo- Apple phone\n"
     ]
    }
   ],
   "source": [
    "class brand():              # parent class\n",
    "    brand_1=\"Samsung\"\n",
    "    brand_2=\"Apple\"\n",
    "    brand_3=\"Motorola\"\n",
    "class accessories():       # child class \n",
    "    access_1=\"headset\"\n",
    "    access_2=\"phone\"\n",
    "    access_3=\"speaker\"\n",
    "\n",
    "class sale_quantity(brand, accessories): \n",
    "    sale_1=100\n",
    "    sale_2=50\n",
    "    sale_3=10\n",
    "    \n",
    "obj_1= sale_quantity()           #Oject-creation\n",
    "\n",
    "print(\"Combo-\", obj_1.brand_1, obj_1.access_1)\n",
    "print(\"Combo-\", obj_1.brand_2, obj_1.access_2)"
   ]
  },
  {
   "cell_type": "markdown",
   "id": "3c4de02d-d97c-4642-94dc-4bc59bf9ea4a",
   "metadata": {},
   "source": [
    "##### Q4. What are getter and setter in python? Create a class and create a getter and a setter method in this class."
   ]
  },
  {
   "cell_type": "markdown",
   "id": "1e93daf7-e742-421e-abd1-798efcf3d507",
   "metadata": {},
   "source": [
    "Getter and Setter are property methods.  \n",
    "And getters and setters are used to protect your data, particularly when creating classes. For each instance variable, a getter method returns its value while a setter method sets or updates its value."
   ]
  },
  {
   "cell_type": "code",
   "execution_count": 41,
   "id": "d2a86566-70a0-40b7-8c9d-c7d7b36d01d2",
   "metadata": {},
   "outputs": [],
   "source": [
    "class student:\n",
    "    \n",
    "    def __init__(self, name, id_stud, age):\n",
    "        self.name=name\n",
    "        self.id_stud=id_stud\n",
    "        self.age=age\n",
    "    \n",
    "    @property\n",
    "    def student_infoage(self):\n",
    "        return self.age\n",
    "    \n",
    "    @student_infoage.setter\n",
    "    def set_age(self, age):\n",
    "        self.age=age\n",
    "    \n",
    "    @student_infoage.getter\n",
    "    def show_details(self):\n",
    "        return self.age"
   ]
  },
  {
   "cell_type": "code",
   "execution_count": 42,
   "id": "e4480605-8f10-4ebb-80a3-3248d7e1a7ee",
   "metadata": {},
   "outputs": [
    {
     "data": {
      "text/plain": [
       "24"
      ]
     },
     "execution_count": 42,
     "metadata": {},
     "output_type": "execute_result"
    }
   ],
   "source": [
    "s1=student(\"Udit\",269,23)\n",
    "s1.set_age=24\n",
    "s1.show_details"
   ]
  },
  {
   "cell_type": "markdown",
   "id": "4ff1827a-fde8-4302-a731-5de0fdfa38c2",
   "metadata": {},
   "source": [
    "##### Q5. What is method overriding in python? Write a python code to demonstrate method overriding."
   ]
  },
  {
   "cell_type": "markdown",
   "id": "656c10b5-7753-4bb6-84ca-0c16ab720254",
   "metadata": {},
   "source": [
    "It is a feature of Object Oriented Programming Language where the subclass or the child class provides the program with specific characteristics which will be overwritten to the methods of parent class."
   ]
  },
  {
   "cell_type": "code",
   "execution_count": 43,
   "id": "4bd4847e-d6f6-4f8a-a45c-8cc392318454",
   "metadata": {},
   "outputs": [
    {
     "name": "stdout",
     "output_type": "stream",
     "text": [
      "Inside Parent\n",
      "Inside Child\n"
     ]
    }
   ],
   "source": [
    "# method overriding\n",
    "class Parent():\n",
    "      \n",
    "    def __init__(self):\n",
    "        self.value = \"Inside Parent\"\n",
    "          \n",
    "    def show(self):\n",
    "        print(self.value)\n",
    "          \n",
    "class Child(Parent):\n",
    "      \n",
    "    def __init__(self):\n",
    "        self.value = \"Inside Child\"\n",
    "          \n",
    "    def show(self):\n",
    "        print(self.value)\n",
    "          \n",
    "obj1 = Parent()\n",
    "obj2 = Child()\n",
    "  \n",
    "obj1.show()\n",
    "obj2.show()"
   ]
  },
  {
   "cell_type": "code",
   "execution_count": null,
   "id": "85a8b4f6-8e79-4c2c-9530-4b8e2e64175e",
   "metadata": {},
   "outputs": [],
   "source": []
  }
 ],
 "metadata": {
  "kernelspec": {
   "display_name": "Python 3 (ipykernel)",
   "language": "python",
   "name": "python3"
  },
  "language_info": {
   "codemirror_mode": {
    "name": "ipython",
    "version": 3
   },
   "file_extension": ".py",
   "mimetype": "text/x-python",
   "name": "python",
   "nbconvert_exporter": "python",
   "pygments_lexer": "ipython3",
   "version": "3.10.8"
  }
 },
 "nbformat": 4,
 "nbformat_minor": 5
}
