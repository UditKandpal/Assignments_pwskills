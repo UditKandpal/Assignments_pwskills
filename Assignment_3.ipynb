{
 "cells": [
  {
   "cell_type": "markdown",
   "id": "83c1b22e-dac8-4aff-879d-c1ead239717e",
   "metadata": {},
   "source": [
    "### Assignment 3 - 2nd Feb"
   ]
  },
  {
   "cell_type": "markdown",
   "id": "71173d2f-8735-415a-9b0d-13a7be050217",
   "metadata": {},
   "source": [
    "#### Udit Kandpal"
   ]
  },
  {
   "cell_type": "markdown",
   "id": "68142b74-2f73-40b7-b6ad-439264e99f15",
   "metadata": {},
   "source": [
    "##### Q1. Explain with an example each when to use a for loop and a while loop "
   ]
  },
  {
   "cell_type": "markdown",
   "id": "fac0c72a-eda3-4be8-82ab-3bbd79f125b9",
   "metadata": {},
   "source": [
    "When we have to run a loop for specific number of times like if we have to run a loop n times, then we use a for loop but when we have to set a conditional limit for eg. find sum until n<100 then we will use while loop."
   ]
  },
  {
   "cell_type": "markdown",
   "id": "532b4fec-87c2-4a98-95ae-94e8fce69540",
   "metadata": {},
   "source": [
    "##### Q2. Write a python program to print the sum and product of the first 10 natural numbers using for and while loop."
   ]
  },
  {
   "cell_type": "code",
   "execution_count": 3,
   "id": "e59eecbb-d444-4159-82d6-cca26418995b",
   "metadata": {},
   "outputs": [
    {
     "name": "stdout",
     "output_type": "stream",
     "text": [
      "Sum is:  55\n",
      "Product is:  3628800\n"
     ]
    }
   ],
   "source": [
    "# using for loop\n",
    "sum=0\n",
    "mul=1\n",
    "for i in range(1,11):\n",
    "    sum=sum+i\n",
    "    mul=mul*i\n",
    "print(\"Sum is: \", sum)\n",
    "print(\"Product is: \", mul)"
   ]
  },
  {
   "cell_type": "code",
   "execution_count": 4,
   "id": "8a0b5b60-f401-41f4-aeac-bb429efb4b41",
   "metadata": {},
   "outputs": [
    {
     "name": "stdout",
     "output_type": "stream",
     "text": [
      "Sum is: 55\n",
      "Product is: 3628800\n"
     ]
    }
   ],
   "source": [
    "# using while loop\n",
    "sumn=0\n",
    "muln=1\n",
    "i=1\n",
    "while i<11:\n",
    "    sumn+=i\n",
    "    muln*=i\n",
    "    i=i+1\n",
    "print(\"Sum is:\", sumn)\n",
    "print(\"Product is:\", muln)"
   ]
  },
  {
   "cell_type": "markdown",
   "id": "525ffa8f-6b9d-4bc6-a774-f8e58651110e",
   "metadata": {},
   "source": [
    "##### Q3. Create a python program to compute the electricity bill for a household."
   ]
  },
  {
   "cell_type": "code",
   "execution_count": 7,
   "id": "e1825732-350c-4982-bdec-8ee3f711aaaa",
   "metadata": {},
   "outputs": [
    {
     "name": "stdin",
     "output_type": "stream",
     "text": [
      "Enter the number of units utilized by you this month:  310\n"
     ]
    },
    {
     "name": "stdout",
     "output_type": "stream",
     "text": [
      "This month bill is:  2250.0\n"
     ]
    }
   ],
   "source": [
    "units= int(input(\"Enter the number of units utilized by you this month: \"))\n",
    "if units<=100:\n",
    "    total=units*4.5\n",
    "elif units>100 and units<=200:\n",
    "    total= 100*4.5 + (units-100)*6\n",
    "elif units>200 and units<=300:\n",
    "    total= 100*4.5 + 100*6 + (units-200)*10\n",
    "elif units>300:\n",
    "    total= 100*4.5 + 100*6 + 100*10 + (units-300)*20\n",
    "print(\"This month bill is: \", total)"
   ]
  },
  {
   "cell_type": "markdown",
   "id": "1c47d0ca-a7eb-46f9-b6ce-e886baa457e8",
   "metadata": {},
   "source": [
    "##### Q4. Create a list of numbers from 1 to 100. Use for loop and while loop to calculate the cube of each number and if the cube of that number is divisibe by 4 or 5 then append that number in a list and print that list."
   ]
  },
  {
   "cell_type": "code",
   "execution_count": 16,
   "id": "45e99e67-2ac7-4aae-bd5d-b83acaeec058",
   "metadata": {},
   "outputs": [
    {
     "name": "stdout",
     "output_type": "stream",
     "text": [
      "List: [2, 4, 5, 6, 8, 10, 12, 14, 15, 16, 18, 20, 22, 24, 25, 26, 28, 30, 32, 34, 35, 36, 38, 40, 42, 44, 45, 46, 48, 50, 52, 54, 55, 56, 58, 60, 62, 64, 65, 66, 68, 70, 72, 74, 75, 76, 78, 80, 82, 84, 85, 86, 88, 90, 92, 94, 95, 96, 98, 100]\n"
     ]
    }
   ],
   "source": [
    "l=[]\n",
    "for i in range(1,101):\n",
    "    if (pow(i,3)%4)==0 or (pow(i,3)%5)==0 :\n",
    "        l.append(i)\n",
    "print(\"List:\",l)"
   ]
  },
  {
   "cell_type": "markdown",
   "id": "20334dac-495c-4db9-a182-71c435b258dd",
   "metadata": {},
   "source": [
    "##### Q5. Write a program to filter count vowels in the below-given strings."
   ]
  },
  {
   "cell_type": "code",
   "execution_count": 19,
   "id": "b5c2592d-8364-466d-a563-ddd8ca247dcd",
   "metadata": {},
   "outputs": [
    {
     "name": "stdout",
     "output_type": "stream",
     "text": [
      "Vowels in string are: ['I', 'a', 'o', 'e', 'o', 'e', 'a', 'a', 'a', 'i', 'e', 'i']\n",
      "Count is: 12\n"
     ]
    }
   ],
   "source": [
    "# string = \"I want to become a data scientist\"\n",
    "test=\"I want to become a data scientist\"\n",
    "l=[]\n",
    "for i in test:\n",
    "    if(i==\"A\" or i==\"E\" or i==\"I\" or i==\"O\" or i==\"U\" or i==\"a\" or i==\"e\" or i==\"i\" or i==\"o\" or i==\"u\"):\n",
    "        l.append(i)\n",
    "print(\"Vowels in string are:\", l)\n",
    "print(\"Count is:\", len(l))"
   ]
  },
  {
   "cell_type": "code",
   "execution_count": null,
   "id": "1cf2feea-278a-4dd3-99dd-8598bda2ecd5",
   "metadata": {},
   "outputs": [],
   "source": []
  }
 ],
 "metadata": {
  "kernelspec": {
   "display_name": "Python 3 (ipykernel)",
   "language": "python",
   "name": "python3"
  },
  "language_info": {
   "codemirror_mode": {
    "name": "ipython",
    "version": 3
   },
   "file_extension": ".py",
   "mimetype": "text/x-python",
   "name": "python",
   "nbconvert_exporter": "python",
   "pygments_lexer": "ipython3",
   "version": "3.10.8"
  }
 },
 "nbformat": 4,
 "nbformat_minor": 5
}
