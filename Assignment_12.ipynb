{
 "cells": [
  {
   "cell_type": "markdown",
   "id": "9377881f-af64-48a1-9ecb-bdd7fcc666f4",
   "metadata": {},
   "source": [
    "# Assignment 12 - Exception Handling-1\n",
    "### Udit Kandpal"
   ]
  },
  {
   "cell_type": "markdown",
   "id": "8a3de84d-2a54-438b-b1e9-39b6219bb85e",
   "metadata": {},
   "source": [
    "##### Q1. What is an Exception in python? Write the difference between Exceptions and Syntax errors"
   ]
  },
  {
   "cell_type": "markdown",
   "id": "b3b84c6e-5d7a-4082-bf14-5be991a349eb",
   "metadata": {},
   "source": [
    "An exception is a runtime error which can be handled by the programmer. That means if programmer can guess an error in the program and he can do something to eliminate the harm caused by that error, then it is an exception."
   ]
  },
  {
   "cell_type": "markdown",
   "id": "9ffcb177-8523-4b96-b6d3-8ed1f37269a0",
   "metadata": {},
   "source": [
    "The base class for all built-in exceptions is \"BaseException\" class.  \n",
    "Syntax error is a subclass of exceptions. Also Syntax error is generated when there is a problem with the syntax of code but exception contains all other errors generated while executing a program like zero division error."
   ]
  },
  {
   "cell_type": "markdown",
   "id": "2ec3bd17-62c3-4c59-a4a2-b49d45fba6a4",
   "metadata": {},
   "source": [
    "##### Q2. What happens when exception is not handled? Explain with an example."
   ]
  },
  {
   "cell_type": "markdown",
   "id": "f35331e0-e7cf-4b2f-8a27-91b0a2cc02c9",
   "metadata": {},
   "source": [
    "If exception is not handled, it will result an error. and the execution of code will be stopped.\n"
   ]
  },
  {
   "cell_type": "code",
   "execution_count": 15,
   "id": "90fbb9f8-53d3-4cf0-9fa5-b1ed80e35f6a",
   "metadata": {},
   "outputs": [
    {
     "name": "stdin",
     "output_type": "stream",
     "text": [
      "Enter two numbers 2 0\n"
     ]
    },
    {
     "ename": "ZeroDivisionError",
     "evalue": "division by zero",
     "output_type": "error",
     "traceback": [
      "\u001b[1;31m---------------------------------------------------------------------------\u001b[0m",
      "\u001b[1;31mZeroDivisionError\u001b[0m                         Traceback (most recent call last)",
      "\u001b[1;32m~\\AppData\\Local\\Temp\\ipykernel_37072\\363043735.py\u001b[0m in \u001b[0;36m<module>\u001b[1;34m\u001b[0m\n\u001b[0;32m      1\u001b[0m \u001b[0ma\u001b[0m\u001b[1;33m,\u001b[0m\u001b[0mb\u001b[0m\u001b[1;33m=\u001b[0m\u001b[0mlist\u001b[0m\u001b[1;33m(\u001b[0m\u001b[0mmap\u001b[0m\u001b[1;33m(\u001b[0m\u001b[0mint\u001b[0m\u001b[1;33m,\u001b[0m\u001b[0minput\u001b[0m\u001b[1;33m(\u001b[0m\u001b[1;34m\"Enter two numbers\"\u001b[0m\u001b[1;33m)\u001b[0m\u001b[1;33m.\u001b[0m\u001b[0msplit\u001b[0m\u001b[1;33m(\u001b[0m\u001b[1;33m)\u001b[0m\u001b[1;33m)\u001b[0m\u001b[1;33m)\u001b[0m\u001b[1;33m\u001b[0m\u001b[1;33m\u001b[0m\u001b[0m\n\u001b[1;32m----> 2\u001b[1;33m \u001b[0mprint\u001b[0m \u001b[1;33m(\u001b[0m\u001b[0ma\u001b[0m\u001b[1;33m/\u001b[0m\u001b[0mb\u001b[0m\u001b[1;33m)\u001b[0m\u001b[1;33m\u001b[0m\u001b[1;33m\u001b[0m\u001b[0m\n\u001b[0m",
      "\u001b[1;31mZeroDivisionError\u001b[0m: division by zero"
     ]
    }
   ],
   "source": [
    "a,b=list(map(int,input(\"Enter two numbers\").split()))\n",
    "print (a/b)"
   ]
  },
  {
   "cell_type": "markdown",
   "id": "21c55b89-8c41-4bc0-99c3-67df6fd5ed44",
   "metadata": {},
   "source": [
    "Here as we can see, Zero divison error is generated. which can be handled using exceptions."
   ]
  },
  {
   "cell_type": "markdown",
   "id": "8e0144be-a02f-4c54-ac62-d9ddaa52274d",
   "metadata": {},
   "source": [
    "##### Q3. Which python statements are used to catch and handle exceptions? Explain with example."
   ]
  },
  {
   "cell_type": "markdown",
   "id": "ca093bcd-6f1f-4377-b21d-21fd16c8c7eb",
   "metadata": {},
   "source": [
    "There are mainly 4 functions used to handle exceptions.\n",
    "1. try - try will execute the main block and if exception is raised, it will fall into the except block.\n",
    "2. except - Will be traversed when exception is raised.\n",
    "3. finally - It will be executed not depending on whether exception is generated.\n",
    "4. else - else function will only be executed only when try function is executed without using except block."
   ]
  },
  {
   "cell_type": "code",
   "execution_count": 21,
   "id": "9f01fb1d-6ef1-418a-9682-90df97b049f3",
   "metadata": {},
   "outputs": [
    {
     "name": "stdin",
     "output_type": "stream",
     "text": [
      "Enter two numbers:  12 0\n"
     ]
    },
    {
     "name": "stdout",
     "output_type": "stream",
     "text": [
      "Zero Division Error Occurs\n",
      "File closed\n"
     ]
    }
   ],
   "source": [
    "# Zero division error handling\n",
    "try:\n",
    "    f=open(\"new.txt\",\"w\")\n",
    "    a,b=list(map(int,input(\"Enter two numbers: \").split()))\n",
    "    c=a/b\n",
    "    f.write(\"Writing %d into my file\" %c)\n",
    "except ZeroDivisionError:\n",
    "    f.write(\"Zero Division Error occurs\")\n",
    "    print(\"Zero Division Error Occurs\")\n",
    "finally:\n",
    "    f.close()\n",
    "    print(\"File closed\")\n",
    "    "
   ]
  },
  {
   "cell_type": "markdown",
   "id": "d7300179-c85c-4557-8dc2-47871ed510f1",
   "metadata": {},
   "source": [
    "##### Q4. Explain with an example:\n",
    "1. try and else \n",
    "2. finally \n",
    "3. raise"
   ]
  },
  {
   "cell_type": "code",
   "execution_count": 25,
   "id": "e36043ca-15d6-4802-af4b-410dbb81eaa5",
   "metadata": {},
   "outputs": [
    {
     "name": "stdin",
     "output_type": "stream",
     "text": [
      "Enter date: 2023,27,2\n"
     ]
    },
    {
     "name": "stdout",
     "output_type": "stream",
     "text": [
      "Date entered:  (2023, 27, 2)\n"
     ]
    }
   ],
   "source": [
    "# try and else\n",
    "try:\n",
    "    date = eval(input(\"Enter date:\"))\n",
    "except SyntaxError:\n",
    "    print('Invalid date entered')\n",
    "else:\n",
    "    print(\"Date entered: \", date)"
   ]
  },
  {
   "cell_type": "code",
   "execution_count": 26,
   "id": "8535a94f-e315-4a73-8529-6947d25a6493",
   "metadata": {},
   "outputs": [
    {
     "name": "stdin",
     "output_type": "stream",
     "text": [
      "Enter a Number:  5\n"
     ]
    },
    {
     "name": "stdout",
     "output_type": "stream",
     "text": [
      "There is no exception\n",
      "The number is: 5\n"
     ]
    }
   ],
   "source": [
    "# finally\n",
    "try:\n",
    "    a=int(input(\"Enter a Number: \"))\n",
    "finally:\n",
    "    print(\"There is no exception\")\n",
    "    print(\"The number is:\", a)"
   ]
  },
  {
   "cell_type": "code",
   "execution_count": 28,
   "id": "a0a6622f-bd2a-4f89-a281-0dfd8e98e762",
   "metadata": {},
   "outputs": [
    {
     "name": "stdin",
     "output_type": "stream",
     "text": [
      "Enter your balance:  1999\n"
     ]
    },
    {
     "name": "stdout",
     "output_type": "stream",
     "text": [
      "Your balance is low\n"
     ]
    }
   ],
   "source": [
    "# raise -> It is used for user-defined exceptions. \n",
    "class MyException(Exception):\n",
    "    def __init__(self,arg):\n",
    "        self.msg=arg\n",
    "        \n",
    "try:\n",
    "    balance=int(input(\"Enter your balance: \"))\n",
    "    if balance<2000:\n",
    "        raise MyException(\"Your balance is low\")\n",
    "except MyException as me:\n",
    "    print(me)\n"
   ]
  },
  {
   "cell_type": "markdown",
   "id": "6bc41d86-c644-4504-b41c-d30f40eafdbe",
   "metadata": {},
   "source": [
    "##### Q5. What are Custom Exceptions in python? Why do we need Custom Exceptions? Explain with example."
   ]
  },
  {
   "cell_type": "markdown",
   "id": "db2c2ce0-c37c-404b-ba59-4bf57ad90c0a",
   "metadata": {},
   "source": [
    "Custom Exceptions are the exceptions created by the user itself and derived using the base class Exception to provide better functioning or to provide extra features."
   ]
  },
  {
   "cell_type": "markdown",
   "id": "228f979d-489a-4be8-a7d5-925a65b1d069",
   "metadata": {},
   "source": [
    "We need Custom Exceptions to have User defined exceptions other than the built-in exceptions."
   ]
  },
  {
   "cell_type": "markdown",
   "id": "3c7e9a92-e031-4d74-9649-c6dfefa1b157",
   "metadata": {},
   "source": [
    "For eg. Creating an exception class that if user's age is greater than 18, you are eligible for the exam otherwise not.\n"
   ]
  },
  {
   "cell_type": "markdown",
   "id": "fe43c1e4-cc59-4e40-b9eb-70348c707c94",
   "metadata": {},
   "source": [
    "As we know there is no Exception related to age but it is an user-defined exception and hence called Custom Exceptions."
   ]
  },
  {
   "cell_type": "markdown",
   "id": "4efe4eca-b1fc-4c10-846c-26628662d527",
   "metadata": {},
   "source": [
    "##### Q6. Create a Custom Exception class. use this class to handle an exception. "
   ]
  },
  {
   "cell_type": "markdown",
   "id": "30331c82-6d65-4798-a44f-a4c0c8cf7df7",
   "metadata": {},
   "source": [
    "Same as discussed in previous question, creating a custom class new_Exception to handle exceptions related to age."
   ]
  },
  {
   "cell_type": "code",
   "execution_count": 33,
   "id": "bdb350d7-3915-4936-9b4d-c951cfe05748",
   "metadata": {},
   "outputs": [
    {
     "name": "stdin",
     "output_type": "stream",
     "text": [
      "Input your age:  15\n"
     ]
    },
    {
     "name": "stdout",
     "output_type": "stream",
     "text": [
      "You are not eligible as your age is less than 18 years\n"
     ]
    }
   ],
   "source": [
    "class new_Exception(Exception):\n",
    "    def __init__(self, arg):\n",
    "        self.msg=arg\n",
    "try:\n",
    "    age=int(input(\"Input your age: \"))\n",
    "    if age<18:\n",
    "        raise new_Exception(\"You are not eligible as your age is less than 18 years\")\n",
    "except new_Exception as e:\n",
    "    print(e)"
   ]
  },
  {
   "cell_type": "code",
   "execution_count": null,
   "id": "1f6029d8-3e4a-4d4f-a8f2-597d1974fc79",
   "metadata": {},
   "outputs": [],
   "source": []
  }
 ],
 "metadata": {
  "kernelspec": {
   "display_name": "Python 3 (ipykernel)",
   "language": "python",
   "name": "python3"
  },
  "language_info": {
   "codemirror_mode": {
    "name": "ipython",
    "version": 3
   },
   "file_extension": ".py",
   "mimetype": "text/x-python",
   "name": "python",
   "nbconvert_exporter": "python",
   "pygments_lexer": "ipython3",
   "version": "3.9.13"
  }
 },
 "nbformat": 4,
 "nbformat_minor": 5
}
