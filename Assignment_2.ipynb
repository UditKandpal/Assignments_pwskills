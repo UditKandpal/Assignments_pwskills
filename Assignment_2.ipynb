{
 "cells": [
  {
   "cell_type": "markdown",
   "id": "40193a52-d6b8-4c04-815a-1d65480f6345",
   "metadata": {},
   "source": [
    "# Assignment 2 - 30th Jan \n",
    "### Udit Kandpal"
   ]
  },
  {
   "cell_type": "markdown",
   "id": "6b582536-350b-4cdd-be22-6187b674caad",
   "metadata": {},
   "source": [
    "##### Q1. Write a program to accept percentage from the user and display the grade according to the following criteria"
   ]
  },
  {
   "cell_type": "code",
   "execution_count": 6,
   "id": "176353b2-ae71-4642-af4f-7ed600479623",
   "metadata": {},
   "outputs": [
    {
     "name": "stdin",
     "output_type": "stream",
     "text": [
      "Enter Percentage: 85\n"
     ]
    },
    {
     "name": "stdout",
     "output_type": "stream",
     "text": [
      "Grade is: B\n"
     ]
    }
   ],
   "source": [
    "marks=int(input(\"Enter Percentage:\")) \n",
    "if marks>90 :\n",
    "    grade='A'\n",
    "elif marks>80 and marks<=90:\n",
    "    grade='B'\n",
    "elif marks>=60 and marks<=80:\n",
    "    grade='C'\n",
    "else :\n",
    "    grade='D'\n",
    "print (\"Grade is:\", grade)"
   ]
  },
  {
   "cell_type": "markdown",
   "id": "a43f0e73-9f4c-467b-9c70-24042c793b02",
   "metadata": {},
   "source": [
    "##### Q2. Write a program to accept the cost price of a bike and display the road tax to be paid according to the following criteria: "
   ]
  },
  {
   "cell_type": "code",
   "execution_count": 5,
   "id": "8c09644b-2fe8-4a84-9b55-f02a200e53a6",
   "metadata": {},
   "outputs": [
    {
     "name": "stdin",
     "output_type": "stream",
     "text": [
      "Enter the cost price:  150000\n"
     ]
    },
    {
     "name": "stdout",
     "output_type": "stream",
     "text": [
      "Tax: 22500.0\n"
     ]
    }
   ],
   "source": [
    "cost_price= int(input(\"Enter the cost price: \"))\n",
    "if cost_price > 100000:\n",
    "    tax= (15*cost_price)/100\n",
    "elif cost_price > 50000 and cost_price <= 100000:\n",
    "    tax=(10*cost_price)/100\n",
    "else:\n",
    "    tax=(5*cost_price)/100\n",
    "    \n",
    "print(\"Tax:\", tax)"
   ]
  },
  {
   "cell_type": "markdown",
   "id": "41205dc3-5f72-4c33-8e40-a4460c664780",
   "metadata": {},
   "source": [
    "##### Q3. Accept any city from the user and display monuments of that city."
   ]
  },
  {
   "cell_type": "code",
   "execution_count": 8,
   "id": "0bf4bf58-9250-44eb-bd50-91d69fec7455",
   "metadata": {},
   "outputs": [
    {
     "name": "stdin",
     "output_type": "stream",
     "text": [
      "Enter city: Delhi\n"
     ]
    },
    {
     "name": "stdout",
     "output_type": "stream",
     "text": [
      "Monument is: Red Fort\n"
     ]
    }
   ],
   "source": [
    "city = input(\"Enter city:\")\n",
    "if (city=='Delhi'):\n",
    "    monument=\"Red Fort\"\n",
    "elif (city=='Agra'):\n",
    "    monument=\"Taj Mahal\"\n",
    "elif (city=='Jaipur'):\n",
    "    monument=\"Jal Mahal\"\n",
    "    \n",
    "print(\"Monument is:\", monument)"
   ]
  },
  {
   "cell_type": "markdown",
   "id": "a4df6bc8-8fca-4d1c-8f5a-c0f7d7179c73",
   "metadata": {},
   "source": [
    "##### Q4. Check how many times a number can be divided by 3 before it is less than or equal to 10."
   ]
  },
  {
   "cell_type": "code",
   "execution_count": 11,
   "id": "d814cd76-34ff-4577-9e7f-17af7a0d35e6",
   "metadata": {},
   "outputs": [
    {
     "name": "stdin",
     "output_type": "stream",
     "text": [
      "Enter a number: 87\n"
     ]
    },
    {
     "name": "stdout",
     "output_type": "stream",
     "text": [
      "Times: 2\n"
     ]
    }
   ],
   "source": [
    "num = int(input(\"Enter a number:\"))\n",
    "i=0\n",
    "while(num>10):\n",
    "    num=num/3\n",
    "    i=i+1\n",
    "    \n",
    "print(\"Times:\", i)"
   ]
  },
  {
   "cell_type": "markdown",
   "id": "d5f0e9f7-af47-4c8d-bc76-e95f4cc053c5",
   "metadata": {},
   "source": [
    "##### Q5.Why and when to use while loop in python give a detailed description with example."
   ]
  },
  {
   "cell_type": "markdown",
   "id": "0a2f78e1-51d8-455b-bbfb-e8e79f7dbfb7",
   "metadata": {},
   "source": [
    "We generally use while loop when we have to run a block code until a limit conditional statement is met for eg.a number should be greater than a particular value."
   ]
  },
  {
   "cell_type": "code",
   "execution_count": 3,
   "id": "aeab3b14-06a1-4279-b003-b8f5a2fda9ac",
   "metadata": {},
   "outputs": [
    {
     "name": "stdout",
     "output_type": "stream",
     "text": [
      "9\n"
     ]
    }
   ],
   "source": [
    "j=0\n",
    "x =10 \n",
    "while(x>1):\n",
    "    j=j+1\n",
    "    x=x-1\n",
    "print(j)"
   ]
  },
  {
   "cell_type": "markdown",
   "id": "c09e3afa-a744-446a-bdff-8e94767a3770",
   "metadata": {},
   "source": [
    "##### Q6. Use nested while loop to print 3 different pattern."
   ]
  },
  {
   "cell_type": "code",
   "execution_count": 3,
   "id": "23707278-cefb-4ab5-a2b9-0fa3224d53e6",
   "metadata": {},
   "outputs": [
    {
     "name": "stdout",
     "output_type": "stream",
     "text": [
      "*****\n",
      "\n",
      "****\n",
      "\n",
      "***\n",
      "\n",
      "**\n",
      "\n",
      "*\n",
      "\n"
     ]
    }
   ],
   "source": [
    "n=5  # decreasing pattern of stars\n",
    "i=0\n",
    "while(n>0):\n",
    "    while(n-i>0):\n",
    "        print(\"*\", end='')\n",
    "        i=i+1\n",
    "    print(\"\\n\")\n",
    "    n=n-1\n",
    "    i=0"
   ]
  },
  {
   "cell_type": "code",
   "execution_count": 4,
   "id": "d248cc85-af27-4dda-bed9-444898ab6f89",
   "metadata": {},
   "outputs": [
    {
     "name": "stdout",
     "output_type": "stream",
     "text": [
      "*\n",
      "\n",
      "**\n",
      "\n",
      "***\n",
      "\n",
      "****\n",
      "\n",
      "*****\n",
      "\n"
     ]
    }
   ],
   "source": [
    "# increasing star pattern\n",
    "i=0\n",
    "j=0\n",
    "while(j<5):\n",
    "    while(i<j+1):\n",
    "        print(\"*\", end='')\n",
    "        i=i+1\n",
    "    print(\"\\n\")\n",
    "    j=j+1\n",
    "    i=0\n",
    "    "
   ]
  },
  {
   "cell_type": "code",
   "execution_count": 7,
   "id": "505deffb-3783-4ba0-89dc-0b9702513ada",
   "metadata": {},
   "outputs": [
    {
     "name": "stdout",
     "output_type": "stream",
     "text": [
      "*****\n",
      "\n",
      "*****\n",
      "\n",
      "*****\n",
      "\n",
      "*****\n",
      "\n",
      "*****\n",
      "\n"
     ]
    }
   ],
   "source": [
    "i=5\n",
    "j=0\n",
    "while(i>0):\n",
    "    while(j<5):\n",
    "        print(\"*\",end='')\n",
    "        j=j+1\n",
    "    print(\"\\n\")\n",
    "    i=i-1\n",
    "    j=0"
   ]
  },
  {
   "cell_type": "markdown",
   "id": "9bf28c2e-d397-4924-8174-d8bfc2a6d5b9",
   "metadata": {},
   "source": [
    "##### Q7. Reverse a while loop to display a number from 10 to 1 "
   ]
  },
  {
   "cell_type": "code",
   "execution_count": 9,
   "id": "8c3c6c41-1e7a-414e-a3fe-756869b085d0",
   "metadata": {},
   "outputs": [
    {
     "name": "stdout",
     "output_type": "stream",
     "text": [
      "10\n",
      "9\n",
      "8\n",
      "7\n",
      "6\n",
      "5\n",
      "4\n",
      "3\n",
      "2\n",
      "1\n"
     ]
    }
   ],
   "source": [
    "i=10\n",
    "while(i>0):\n",
    "    print(i)\n",
    "    i=i-1"
   ]
  },
  {
   "cell_type": "markdown",
   "id": "a1c77697-460e-4bab-9fe7-aa2620c82f09",
   "metadata": {},
   "source": [
    "##### Q8. Reverse a while loop to display a number from 10 to 1"
   ]
  },
  {
   "cell_type": "markdown",
   "id": "25a844f7-0be2-4c8f-b622-bd9c1c5c6661",
   "metadata": {},
   "source": [
    "Same question as 7 "
   ]
  },
  {
   "cell_type": "code",
   "execution_count": 12,
   "id": "1537cb74-e67d-4497-8cd2-bb3c78cd2a3a",
   "metadata": {},
   "outputs": [
    {
     "name": "stdout",
     "output_type": "stream",
     "text": [
      "1\n",
      "2\n",
      "3\n",
      "4\n",
      "5\n",
      "6\n",
      "7\n",
      "8\n",
      "9\n",
      "10\n"
     ]
    }
   ],
   "source": [
    "# same question as 7 so printing in ascending order this time\n",
    "i=1\n",
    "while(i<11):\n",
    "    print(i)\n",
    "    i=i+1"
   ]
  }
 ],
 "metadata": {
  "kernelspec": {
   "display_name": "Python 3 (ipykernel)",
   "language": "python",
   "name": "python3"
  },
  "language_info": {
   "codemirror_mode": {
    "name": "ipython",
    "version": 3
   },
   "file_extension": ".py",
   "mimetype": "text/x-python",
   "name": "python",
   "nbconvert_exporter": "python",
   "pygments_lexer": "ipython3",
   "version": "3.10.8"
  }
 },
 "nbformat": 4,
 "nbformat_minor": 5
}
