{
 "cells": [
  {
   "cell_type": "markdown",
   "id": "67c0ad75-8115-40fe-b52a-1db3f5390da9",
   "metadata": {},
   "source": [
    "# Assignment 11 - 10th Feb\n",
    "### Udit Kandpal"
   ]
  },
  {
   "cell_type": "markdown",
   "id": "381cddc8-826d-48e8-9ca7-3f2ccf8b5991",
   "metadata": {},
   "source": [
    "##### Q1. Which function is used to open a file? What are the different modes of opening a file? Explain each mode of file opening."
   ]
  },
  {
   "cell_type": "markdown",
   "id": "18998b8b-8670-4e7b-8e3b-735ae398a38b",
   "metadata": {},
   "source": [
    "open() function is used to open/create a file.  \n",
    "There are multiple ways of opening a file.  \n",
    "'r'       open for reading (default)  \n",
    "'w'       open for writing, truncating the file first  \n",
    "'x'       create a new file and open it for writing  \n",
    "'a'       open for writing, appending to the end of the file if it exists  \n",
    "'b'       binary mode  \n",
    "'t'       text mode (default)  \n",
    "'+'       open a disk file for updating (reading and writing)  \n",
    "'U'       universal newline mode (deprecated)  \n",
    "\n",
    "The modes are used as-  \n",
    "f=open(\"test.txt\",\"w\")\n",
    "    "
   ]
  },
  {
   "cell_type": "markdown",
   "id": "c7770f49-6757-4316-aefb-e553d1427950",
   "metadata": {},
   "source": [
    "##### Q2. Why close() function is used? Why is it important to close a file?"
   ]
  },
  {
   "cell_type": "markdown",
   "id": "6cfe4cc9-1028-43c0-a099-bfa91696d57f",
   "metadata": {},
   "source": [
    "close() function is used to close the open file and complete the process of writing a file.  \n",
    "You can write on the file using f.write() but it will not be processed onto the file until the file is closed using f.close() function."
   ]
  },
  {
   "cell_type": "markdown",
   "id": "9cb88bc5-9047-4ad3-b495-7040c1692165",
   "metadata": {},
   "source": [
    "##### Q3. Write a python program to create a text file. Write ‘I want to become a Data Scientist’ in that file. Then close the file. Open this file and read the content of the file."
   ]
  },
  {
   "cell_type": "code",
   "execution_count": 4,
   "id": "6ed4bd9e-8f6e-45a1-9f18-1239ba4726bb",
   "metadata": {},
   "outputs": [],
   "source": [
    "with open(\"test.txt\",\"w\") as f:\n",
    "    f.write(\"I want to become a Data Scientist.\")\n",
    "    f.close()"
   ]
  },
  {
   "cell_type": "code",
   "execution_count": 5,
   "id": "df195601-5f7e-4212-9cb5-f5bc2480655d",
   "metadata": {},
   "outputs": [
    {
     "name": "stdout",
     "output_type": "stream",
     "text": [
      "I want to become a Data Scientist.\n"
     ]
    }
   ],
   "source": [
    "with open(\"test.txt\",\"r\") as f:\n",
    "    print(f.read())"
   ]
  },
  {
   "cell_type": "markdown",
   "id": "109a0bdd-efdc-4c23-b400-e41802b2de6b",
   "metadata": {},
   "source": [
    "##### Q4. Explain the following with python code: read(), readline() and readlines()."
   ]
  },
  {
   "cell_type": "markdown",
   "id": "5a5aa7fb-f970-4361-b441-c7ef09091531",
   "metadata": {},
   "source": [
    "read() - It is used to read all the contents written in the file.  \n",
    "readline() - It will read the contents as line or string basis and will give the output according to the input in parenthesis.  \n",
    "readlines() - It will read the contents only on line basis as per the input provided in the parethesis. if the value in parenthesis exceed the number of characters present in that particular line, It will print all the lines before it. "
   ]
  },
  {
   "cell_type": "code",
   "execution_count": 6,
   "id": "cc5da33c-5f38-4abb-a7e7-63d7c410470a",
   "metadata": {},
   "outputs": [],
   "source": [
    "with open(\"test1.txt\",\"w\") as f:\n",
    "    f.write(\"This is first line\\n\")\n",
    "    f.write(\"This is second line\\n\")\n",
    "    f.write(\"This is third line\\n\")\n",
    "    f.write(\"This is fourth line\\n\")\n",
    "    f.close()"
   ]
  },
  {
   "cell_type": "code",
   "execution_count": 19,
   "id": "fdcf2436-8604-409d-beeb-ecd93744e46e",
   "metadata": {},
   "outputs": [
    {
     "name": "stdout",
     "output_type": "stream",
     "text": [
      "Read:  This is first line\n",
      "This is second line\n",
      "This is third line\n",
      "This is fourth line\n",
      "\n",
      "Readline:  This\n",
      "Readlines:  ['This is first line\\n', 'This is second line\\n']\n"
     ]
    }
   ],
   "source": [
    "with open(\"test1.txt\",\"r\") as f:\n",
    "    data_1 = f.read()\n",
    "    f.seek(0)\n",
    "    data_2 = f.readline(4)\n",
    "    f.seek(0)\n",
    "    data_3 = f.readlines(20)\n",
    "    print(\"Read: \", data_1)\n",
    "    print(\"Readline: \", data_2)\n",
    "    print(\"Readlines: \", data_3)"
   ]
  },
  {
   "cell_type": "markdown",
   "id": "126df49f-d15a-490b-9a76-aaf8756c4d7a",
   "metadata": {},
   "source": [
    "##### Q5.  Explain why with statement is used with open(). What is the advantage of using with statement and open() together?"
   ]
  },
  {
   "cell_type": "markdown",
   "id": "0f44ca1e-e036-4545-9985-84297816820e",
   "metadata": {},
   "source": [
    "with statement with open statement used to create a continuos function to create/edit a file."
   ]
  },
  {
   "cell_type": "code",
   "execution_count": 2,
   "id": "958afe75-e240-46dd-b4d7-1e6a8a5dec6f",
   "metadata": {},
   "outputs": [],
   "source": [
    "with open(\"test.txt\", \"w\") as f:\n",
    "    f.write(\"\\nThis is new line\\n\")\n",
    "    f.close()\n"
   ]
  },
  {
   "cell_type": "markdown",
   "id": "f7b068c2-fc8b-4df6-a492-f28dc59b6e3f",
   "metadata": {},
   "source": [
    "##### Q6. Explain the write() and writelines() functions. Give a suitable example."
   ]
  },
  {
   "cell_type": "markdown",
   "id": "7ae0ea9e-eeb9-40b7-b2f0-f309ecfd1309",
   "metadata": {},
   "source": [
    "write() - write function is used to write contents in the file.  \n",
    "writelines() - writelines function is used to write multiple line at the same time."
   ]
  },
  {
   "cell_type": "code",
   "execution_count": 4,
   "id": "3a5bba9e-6a6d-43a5-84a7-8e1ca35a7fb8",
   "metadata": {},
   "outputs": [],
   "source": [
    "with open(\"test2.txt\",\"w\") as f:\n",
    "    f.write(\"New text\")\n",
    "    f.close()\n",
    "with open(\"test3.txt\",\"w\") as f:\n",
    "    f.writelines([\"\\nSee you soon!\", \"\\nOver and out.\"])\n",
    "    f.close()"
   ]
  },
  {
   "cell_type": "code",
   "execution_count": 7,
   "id": "f73d9c0b-799a-482b-92e3-3aaf668e6a36",
   "metadata": {},
   "outputs": [
    {
     "name": "stdout",
     "output_type": "stream",
     "text": [
      "New text\n",
      "\n",
      "See you soon!\n",
      "Over and out.\n"
     ]
    }
   ],
   "source": [
    "with open(\"test2.txt\",\"r\") as f:\n",
    "    data_1=f.read()\n",
    "    print(data_1)\n",
    "    f.close()\n",
    "with open(\"test3.txt\",\"r\") as f:\n",
    "    data_2=f.read()\n",
    "    print(data_2)\n",
    "    f.close()"
   ]
  },
  {
   "cell_type": "code",
   "execution_count": null,
   "id": "dba8b12f-2c20-4eae-aa6d-157c1b55af00",
   "metadata": {},
   "outputs": [],
   "source": []
  }
 ],
 "metadata": {
  "kernelspec": {
   "display_name": "Python 3 (ipykernel)",
   "language": "python",
   "name": "python3"
  },
  "language_info": {
   "codemirror_mode": {
    "name": "ipython",
    "version": 3
   },
   "file_extension": ".py",
   "mimetype": "text/x-python",
   "name": "python",
   "nbconvert_exporter": "python",
   "pygments_lexer": "ipython3",
   "version": "3.9.13"
  }
 },
 "nbformat": 4,
 "nbformat_minor": 5
}
