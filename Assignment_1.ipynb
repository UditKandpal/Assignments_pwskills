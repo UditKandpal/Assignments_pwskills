{
 "cells": [
  {
   "cell_type": "markdown",
   "id": "83d5eff9-53e1-43a6-befc-5c00d98f0880",
   "metadata": {},
   "source": [
    "# Assignment 1 \n",
    "### Udit Kandpal"
   ]
  },
  {
   "cell_type": "markdown",
   "id": "c1144934-1c1f-4153-b771-3d7d215579b8",
   "metadata": {
    "tags": []
   },
   "source": [
    "##### Q1. Who developed Python Programming Language?"
   ]
  },
  {
   "cell_type": "markdown",
   "id": "f6039a7d-ad84-4727-a7ab-c5d27a226335",
   "metadata": {},
   "source": [
    "Ans. Guido Van Rossum developed the Python Programming Language in 1991."
   ]
  },
  {
   "cell_type": "markdown",
   "id": "a086b9ef-4bfd-44a0-828c-825fd92d3951",
   "metadata": {},
   "source": [
    "##### Q2.Which type of programming does python support?"
   ]
  },
  {
   "cell_type": "markdown",
   "id": "8a5bb0b0-72bc-4afc-b178-1a76b2d24267",
   "metadata": {},
   "source": [
    "Ans. It supports Object Oriented, Structured and functional programming."
   ]
  },
  {
   "cell_type": "markdown",
   "id": "104f69c0-b693-4d7d-93a5-13e090f6306b",
   "metadata": {},
   "source": [
    "##### Q3. Is Python case sensitive when dealing with identifiers?"
   ]
  },
  {
   "cell_type": "markdown",
   "id": "cc6ab0dd-69fc-4ca2-9ce8-f04ab67c8bfc",
   "metadata": {},
   "source": [
    "Ans. Yes "
   ]
  },
  {
   "cell_type": "markdown",
   "id": "6c9f9053-ed2d-4004-90cf-216dac81d03d",
   "metadata": {},
   "source": [
    "##### Q4. What is the correct extension of the python file?"
   ]
  },
  {
   "cell_type": "markdown",
   "id": "557c0509-8f3c-4e3e-849d-eefd65b056ae",
   "metadata": {},
   "source": [
    "Ans. Extension is \".ipynb\""
   ]
  },
  {
   "cell_type": "markdown",
   "id": "e7baa7fe-eb1d-4864-bea7-de32118677fb",
   "metadata": {},
   "source": [
    "##### Q5. Is Python code compiled or interpreted?"
   ]
  },
  {
   "cell_type": "markdown",
   "id": "02d69c63-0875-4f69-a164-5fc0ab09297a",
   "metadata": {},
   "source": [
    "Ans. Python Code is interpreted. "
   ]
  },
  {
   "cell_type": "markdown",
   "id": "14fe7e0c-97e0-49ad-a5e7-08b9be527bcd",
   "metadata": {},
   "source": [
    "##### Q6. Name a few blocks of code used to define in Python Language?"
   ]
  },
  {
   "cell_type": "markdown",
   "id": "f13ad851-add4-436e-a38f-3d60871cf536",
   "metadata": {},
   "source": [
    "Ans. It uses indentation to define the blocks of code and it uses \":\" to mark the indentation. "
   ]
  },
  {
   "cell_type": "code",
   "execution_count": 3,
   "id": "b77b62d4-20ce-47c6-b484-2ec1269ef3a3",
   "metadata": {},
   "outputs": [
    {
     "name": "stdout",
     "output_type": "stream",
     "text": [
      "You are in A0 batch\n"
     ]
    }
   ],
   "source": [
    "marks = 89\n",
    "if marks>80:\n",
    "    print(\"You are in A0 batch\")\n",
    "else :\n",
    "    print(\"You are in A1 batch\")"
   ]
  },
  {
   "cell_type": "markdown",
   "id": "7231529b-a317-4f17-8122-314e1cf8e619",
   "metadata": {},
   "source": [
    "##### Q7. State a character used to give single-line comments in python?"
   ]
  },
  {
   "cell_type": "markdown",
   "id": "9927a761-c186-440f-ab6a-be5b2040798d",
   "metadata": {},
   "source": [
    "Ans. we use # or ## to give comments"
   ]
  },
  {
   "cell_type": "code",
   "execution_count": 4,
   "id": "a996ff44-dff6-45af-b227-fc009e2df1ff",
   "metadata": {},
   "outputs": [],
   "source": [
    "# this is a comment\n",
    "## this is another comment"
   ]
  },
  {
   "cell_type": "markdown",
   "id": "1ea1856d-a4f8-44cc-b9ef-de6d9c60aa74",
   "metadata": {},
   "source": [
    "##### Q8. Mentions functions which can help us to find the version of  python that we are currently working on?"
   ]
  },
  {
   "cell_type": "markdown",
   "id": "a13f3d60-5e96-48e1-8ba2-d57ef614bf04",
   "metadata": {},
   "source": [
    "Ans. There are 3 functions that can help us to find the version we are currently working on."
   ]
  },
  {
   "cell_type": "code",
   "execution_count": 6,
   "id": "f6337b05-37b6-4cc4-98d9-52d610915e7c",
   "metadata": {},
   "outputs": [
    {
     "name": "stdout",
     "output_type": "stream",
     "text": [
      "3.10.8 | packaged by conda-forge | (main, Nov 22 2022, 08:26:04) [GCC 10.4.0]\n"
     ]
    }
   ],
   "source": [
    "# this is 1st method\n",
    "import sys\n",
    "print(sys.version)"
   ]
  },
  {
   "cell_type": "code",
   "execution_count": 7,
   "id": "562f3032-03bc-4d27-bb7a-202d33d26787",
   "metadata": {},
   "outputs": [
    {
     "name": "stdout",
     "output_type": "stream",
     "text": [
      "3.10.8\n"
     ]
    }
   ],
   "source": [
    "# this is 2nd method \n",
    "from platform import python_version\n",
    "print(python_version())"
   ]
  },
  {
   "cell_type": "markdown",
   "id": "b3b8b7b3-54e4-4d9d-b6a0-665444e43d38",
   "metadata": {},
   "source": [
    "this is 3rd method which we have to run in windows cmd \n",
    "###### python -V"
   ]
  },
  {
   "cell_type": "markdown",
   "id": "27275cc9-d8e5-4ac7-8b3d-a13297022662",
   "metadata": {},
   "source": [
    "##### Q9. Python supports the creation of anonymous functions at runtime, using a construct called?"
   ]
  },
  {
   "cell_type": "markdown",
   "id": "801b71fe-1ded-47f3-b0f0-5f0e92908864",
   "metadata": {},
   "source": [
    "It is called Lambda."
   ]
  },
  {
   "cell_type": "code",
   "execution_count": 15,
   "id": "4afade98-174b-4ee0-b6d1-20883df29e61",
   "metadata": {},
   "outputs": [
    {
     "name": "stdout",
     "output_type": "stream",
     "text": [
      "9\n"
     ]
    }
   ],
   "source": [
    "# like if we want to create function like this \n",
    "def add(x): print(x+5)\n",
    "add(4)"
   ]
  },
  {
   "cell_type": "code",
   "execution_count": 16,
   "id": "b46ada12-0e0e-431f-8e43-d952110dbea3",
   "metadata": {},
   "outputs": [
    {
     "data": {
      "text/plain": [
       "9"
      ]
     },
     "execution_count": 16,
     "metadata": {},
     "output_type": "execute_result"
    }
   ],
   "source": [
    "# it can be done using this \n",
    "(lambda x : x+5)(4)"
   ]
  },
  {
   "cell_type": "markdown",
   "id": "1fd82d03-3bff-4c95-b50e-35b3f0f1522a",
   "metadata": {},
   "source": [
    "##### Q10. What does pip stand in python?"
   ]
  },
  {
   "cell_type": "markdown",
   "id": "dc43caf3-96c3-4ee1-ad8b-4bbaf0f6ee00",
   "metadata": {},
   "source": [
    "It stands for preferred installer program. Used to install and manage software packages in python."
   ]
  },
  {
   "cell_type": "code",
   "execution_count": 18,
   "id": "7c588755-aa3f-4cfc-a2be-e2da6b376de3",
   "metadata": {},
   "outputs": [
    {
     "name": "stdout",
     "output_type": "stream",
     "text": [
      "Requirement already satisfied: numpy in /opt/conda/lib/python3.10/site-packages (1.23.5)\n",
      "Note: you may need to restart the kernel to use updated packages.\n"
     ]
    }
   ],
   "source": [
    "pip install numpy # eg. installing numpy"
   ]
  },
  {
   "cell_type": "markdown",
   "id": "2348adc6-2913-4db5-9d7e-76e9308d6296",
   "metadata": {},
   "source": [
    "##### Q11. Mention a few built-in functions in python?"
   ]
  },
  {
   "cell_type": "code",
   "execution_count": 22,
   "id": "931a867e-7674-43d0-8625-a8e62333ac56",
   "metadata": {},
   "outputs": [
    {
     "name": "stdin",
     "output_type": "stream",
     "text": [
      "Enter a number:  10\n"
     ]
    },
    {
     "name": "stdout",
     "output_type": "stream",
     "text": [
      "Number is:  10\n"
     ]
    }
   ],
   "source": [
    "#input(), print()\n",
    "i = int(input(\"Enter a number: \"))\n",
    "print(\"Number is: \", i)"
   ]
  },
  {
   "cell_type": "code",
   "execution_count": 21,
   "id": "9100065c-1894-4398-92bd-09299f624804",
   "metadata": {},
   "outputs": [
    {
     "data": {
      "text/plain": [
       "int"
      ]
     },
     "execution_count": 21,
     "metadata": {},
     "output_type": "execute_result"
    }
   ],
   "source": [
    "#type()\n",
    "x = 11\n",
    "type(x)"
   ]
  },
  {
   "cell_type": "markdown",
   "id": "8c29f1b6-d6bc-475b-a007-2fd0733432bf",
   "metadata": {},
   "source": [
    "##### Q12.What is the maximum possible length of an identifier in python?"
   ]
  },
  {
   "cell_type": "markdown",
   "id": "0edaf026-15b2-4385-a8f2-7ad910e43f2b",
   "metadata": {},
   "source": [
    "Ans. Maximum length of an identifier is 79 characters."
   ]
  },
  {
   "cell_type": "markdown",
   "id": "705991f6-04b7-407d-9ffb-3b7bca0ffb91",
   "metadata": {},
   "source": [
    "##### Q13. What are the benefits of using python?"
   ]
  },
  {
   "cell_type": "markdown",
   "id": "866033ee-439b-46b2-b201-3d6048cf89ba",
   "metadata": {},
   "source": [
    "Ans. 1. It is easier to understand and learn as compared to other languages.  \n",
    "     2. Most of the predefined functions helps us to solve complex things in much easier way. Also hundreds of python libraries and frameworks are there.  \n",
    "     3. Offers better code readability.\n"
   ]
  },
  {
   "cell_type": "markdown",
   "id": "c08fc012-a92e-456d-b491-c85de5825855",
   "metadata": {},
   "source": [
    "##### Q14.How is memory managed in python? "
   ]
  },
  {
   "cell_type": "markdown",
   "id": "0efc0c80-9426-47a2-9b1c-e3f23de3b3ca",
   "metadata": {},
   "source": [
    "Ans. It is managed using Python private heap space. All Python objects and data structures are located in a private heap. This private heap is taken care of by Python Interpreter itself, and a programmer doesn't have access to this private heap."
   ]
  },
  {
   "cell_type": "markdown",
   "id": "733bf2db-a8c9-4d7b-92c8-fb542860969d",
   "metadata": {},
   "source": [
    "##### Q15. How to install python in windows and install path variables?\n"
   ]
  },
  {
   "cell_type": "markdown",
   "id": "ed9688a8-e8fd-4d9f-92d8-bc3dc72ca66c",
   "metadata": {},
   "source": [
    "We can directly install python from its website which provides us with the latest version of the python and now-a-days python installers automatically install path variables in the Environment variables at the end of the installation.\n"
   ]
  },
  {
   "cell_type": "markdown",
   "id": "d8e8c16e-6f8f-4d58-91ed-0ac6bc111a89",
   "metadata": {},
   "source": [
    "##### Q16. Is indentation required in python?"
   ]
  },
  {
   "cell_type": "markdown",
   "id": "e2a422a6-8988-43b0-a1f4-0b85b5be284f",
   "metadata": {},
   "source": [
    "Yes "
   ]
  },
  {
   "cell_type": "code",
   "execution_count": null,
   "id": "70d678c6-861f-4cf5-b4d9-65550d07ca36",
   "metadata": {},
   "outputs": [],
   "source": []
  }
 ],
 "metadata": {
  "kernelspec": {
   "display_name": "Python 3 (ipykernel)",
   "language": "python",
   "name": "python3"
  },
  "language_info": {
   "codemirror_mode": {
    "name": "ipython",
    "version": 3
   },
   "file_extension": ".py",
   "mimetype": "text/x-python",
   "name": "python",
   "nbconvert_exporter": "python",
   "pygments_lexer": "ipython3",
   "version": "3.10.8"
  }
 },
 "nbformat": 4,
 "nbformat_minor": 5
}
